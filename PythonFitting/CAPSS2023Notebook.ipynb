{
  "metadata": {
    "kernelspec": {
      "name": "python",
      "display_name": "Python (Pyodide)",
      "language": "python"
    },
    "language_info": {
      "codemirror_mode": {
        "name": "python",
        "version": 3
      },
      "file_extension": ".py",
      "mimetype": "text/x-python",
      "name": "python",
      "nbconvert_exporter": "python",
      "pygments_lexer": "ipython3",
      "version": "3.8"
    }
  },
  "nbformat_minor": 5,
  "nbformat": 4,
  "cells": [
    {
      "cell_type": "code",
      "source": "# This is a comment. It doesn't get run as code. \n\n# Python uses \"packages\" of code that other people have written\n# Use the import command to load those packages. \nimport pandas\nimport numpy\nimport matplotlib\nimport matplotlib.pyplot\nimport scipy.interpolate\nfrom numpy.polynomial import Polynomial as P\n# Use the \"pandas\" package to read in the data file. \ndata = pandas.read_csv(\"Rain_Water_Efficiency.csv\",header=1, names=[\"E\", \"eff\", \"err1\", \"err2\"])\n# The header=1 tells pandas to use the first 2 lines as the names of the varaibles. \n# The names=[\"E\", \"eff\", \"err1\", \"err2\"] tells pandas to overwrite those names with these ones. \n",
      "metadata": {
        "trusted": true
      },
      "execution_count": null,
      "outputs": [],
      "id": "d3ff8b3a-2bcd-4cbf-ad1d-fe2231769cc9"
    },
    {
      "cell_type": "code",
      "source": "print(\"Data Frame:\")\nprint(data)",
      "metadata": {
        "tags": []
      },
      "execution_count": null,
      "outputs": [],
      "id": "524f901a-26fd-4f46-a166-054e203f7157"
    },
    {
      "cell_type": "code",
      "source": "# show only one column\nprint(\"E Column\")\nprint(data[\"E\"])",
      "metadata": {
        "trusted": true
      },
      "execution_count": null,
      "outputs": [],
      "id": "d9c147b0-7d94-4dca-98a6-135869355124"
    },
    {
      "cell_type": "code",
      "source": "print(\"Element 3 of E is \",data[\"E\"][2])",
      "metadata": {},
      "execution_count": null,
      "outputs": [],
      "id": "9b9724b3-fa28-4903-8eed-01e0f8757622"
    },
    {
      "cell_type": "code",
      "source": "# To graph the data, we push it into the matplotlib.pyplot data structure. \nmatplotlib.pyplot.plot(data[\"E\"],data[\"eff\"],\"o\")\nmatplotlib.pyplot.show()",
      "metadata": {
        "trusted": true
      },
      "execution_count": null,
      "outputs": [],
      "id": "1bcb3093-5ca9-4cc1-9e7a-82898d629f17"
    },
    {
      "cell_type": "code",
      "source": "# Polynomial fit\n# in the includes, we defined P as numpy.polynomial.Polynomial\n# deg is the degree of the polynomial. \n# domain tells the fit where to fit. \nfit = P.fit(data[\"E\"], data[\"eff\"], deg=3, domain=[0.5,3])\n# to evaluate the function, use fit(x):\nprint(fit(1))\n# plot this fit\nxx, yy = fit.linspace()\nmatplotlib.pyplot.plot(data[\"E\"],data[\"eff\"],\"o\")\nmatplotlib.pyplot.plot(xx,yy)\n\nmatplotlib.pyplot.show()",
      "metadata": {
        "trusted": true
      },
      "execution_count": null,
      "outputs": [],
      "id": "2173f579-cd7d-4d9b-9b9b-c629b79a3e9c"
    },
    {
      "cell_type": "code",
      "source": "# Linear Interpolation\nlin = scipy.interpolate.interp1d(data[\"E\"],data[\"eff\"])\nxxx = numpy.arange(min(data[\"E\"]),max(data[\"E\"]),0.005)\nyyy = lin(xxx)\nmatplotlib.pyplot.plot(data[\"E\"],data[\"eff\"],\"o\")\nmatplotlib.pyplot.plot(xxx,yyy)\nprint(\"Linear Interpolation of 1 is \" + str(lin(1)))\nmatplotlib.pyplot.show()",
      "metadata": {
        "trusted": true
      },
      "execution_count": null,
      "outputs": [],
      "id": "c6ca73ba-d53f-4477-b223-acc770068e17"
    },
    {
      "cell_type": "code",
      "source": "# Spline Fitting\n# stitch together order 3 polynomials so they match the points and their derivatives are smooth\nspline = scipy.interpolate.make_interp_spline(data[\"E\"], data[\"eff\"], k=3)\nxxxx = numpy.arange(min(data[\"E\"]), max(data[\"E\"]), 0.005)\nyyyy = spline(xxxx)\nmatplotlib.pyplot.plot(data[\"E\"],data[\"eff\"],\"o\")\nspl =  matplotlib.pyplot.plot(xxxx,yyyy)\nmatplotlib.pyplot.show()\nprint(\"Spline Interpolation of 1 is \" + str(spline(1)))",
      "metadata": {
        "trusted": true
      },
      "execution_count": null,
      "outputs": [],
      "id": "2b408f73-bd8d-4837-a5b4-9cdcbc811571"
    },
    {
      "cell_type": "code",
      "source": "",
      "metadata": {},
      "execution_count": null,
      "outputs": [],
      "id": "b73c5614-d598-4d0a-bd6f-d9772d28dec9"
    }
  ]
}